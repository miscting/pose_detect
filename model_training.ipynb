{
 "cells": [
  {
   "cell_type": "markdown",
   "metadata": {
    "id": "tPE5JcF3XrHM"
   },
   "source": [
    "# 1. Imports"
   ]
  },
  {
   "cell_type": "code",
   "execution_count": 1,
   "metadata": {
    "executionInfo": {
     "elapsed": 4951,
     "status": "ok",
     "timestamp": 1741870219119,
     "user": {
      "displayName": "Jeff Lee",
      "userId": "14830757337905159335"
     },
     "user_tz": -480
    },
    "id": "1-lu3D2fg2YK"
   },
   "outputs": [],
   "source": [
    "import os\n",
    "import numpy as np\n",
    "\n",
    "import tensorflow as tf\n",
    "from tensorflow.keras.preprocessing.image import load_img, img_to_array\n",
    "from tensorflow.keras.models import Sequential\n",
    "from tensorflow.keras.layers import Conv2D, MaxPooling2D, Flatten, Dense, Dropout\n",
    "from tensorflow.keras.optimizers import Adam\n",
    "from tensorflow.keras.callbacks import ModelCheckpoint\n",
    "\n",
    "from sklearn.model_selection import train_test_split\n",
    "from sklearn.metrics import accuracy_score, f1_score, classification_report, top_k_accuracy_score"
   ]
  },
  {
   "cell_type": "markdown",
   "metadata": {
    "id": "ODxwGO6pXvgT"
   },
   "source": [
    "# 2. Load and Prepare Data"
   ]
  },
  {
   "cell_type": "code",
   "execution_count": null,
   "metadata": {
    "executionInfo": {
     "elapsed": 120406,
     "status": "ok",
     "timestamp": 1741870414154,
     "user": {
      "displayName": "Jeff Lee",
      "userId": "14830757337905159335"
     },
     "user_tz": -480
    },
    "id": "vCHnEe3BXu3F"
   },
   "outputs": [],
   "source": [
    "def load_and_preprocess_images(data_folder, img_size):\n",
    "    images = []\n",
    "    labels = []\n",
    "    label_names = sorted(os.listdir(data_folder))\n",
    "    for label_id, label_name in enumerate(label_names):\n",
    "        label_folder = os.path.join(data_folder, label_name)\n",
    "        for filename in os.listdir(label_folder):\n",
    "            img_path = os.path.join(label_folder, filename)\n",
    "            img = load_img(img_path, target_size=img_size)\n",
    "            img_array = img_to_array(img) / 255.0  # Normalize pixel values\n",
    "            images.append(img_array)\n",
    "            labels.append(label_id)\n",
    "    return np.array(images), np.array(labels)\n",
    "\n",
    "# Load and preprocess images\n",
    "data_folder = \"03_occupancy_grid/combined_set\"\n",
    "img_size = (100, 100)\n",
    "images, labels = load_and_preprocess_images(data_folder, img_size)\n",
    "\n",
    "# Split dataset into training and testing sets\n",
    "X_train, X_test, y_train, y_test = train_test_split(images, labels, test_size=0.2, random_state=42)"
   ]
  },
  {
   "cell_type": "markdown",
   "metadata": {
    "id": "TA6rp7oIgwWD"
   },
   "source": [
    "# 3. Create CNN Model"
   ]
  },
  {
   "cell_type": "code",
   "execution_count": null,
   "metadata": {
    "colab": {
     "base_uri": "https://localhost:8080/",
     "height": 491
    },
    "executionInfo": {
     "elapsed": 2507,
     "status": "ok",
     "timestamp": 1741870517585,
     "user": {
      "displayName": "Jeff Lee",
      "userId": "14830757337905159335"
     },
     "user_tz": -480
    },
    "id": "APc4NdCrXofU",
    "outputId": "b88c8c22-08d2-42d0-9178-867e193ceb15"
   },
   "outputs": [],
   "source": [
    "# Define CNN architecture\n",
    "model = Sequential([\n",
    "    Conv2D(32, (3, 3), activation='relu', input_shape=(img_size[0], img_size[1], 3)),\n",
    "    MaxPooling2D((2, 2)),\n",
    "    Dropout(0.5),\n",
    "    Conv2D(64, (3, 3), activation='relu'),\n",
    "    MaxPooling2D((2, 2)),\n",
    "    Dropout(0.5),\n",
    "    Flatten(),\n",
    "    Dense(16, activation='relu'),\n",
    "    Dense(len(np.unique(labels)), activation='softmax')\n",
    "])\n",
    "\n",
    "# Compile the model\n",
    "model.compile(optimizer=Adam(learning_rate=0.0005), loss='sparse_categorical_crossentropy', metrics=['accuracy'])\n",
    "\n",
    "# Display model summary\n",
    "model.summary()"
   ]
  },
  {
   "cell_type": "markdown",
   "metadata": {
    "id": "yZigbnpShn0B"
   },
   "source": [
    "# 4. Training"
   ]
  },
  {
   "cell_type": "code",
   "execution_count": null,
   "metadata": {
    "colab": {
     "base_uri": "https://localhost:8080/"
    },
    "executionInfo": {
     "elapsed": 120668,
     "status": "ok",
     "timestamp": 1741870641777,
     "user": {
      "displayName": "Jeff Lee",
      "userId": "14830757337905159335"
     },
     "user_tz": -480
    },
    "id": "cET4H7YlhpKd",
    "outputId": "b85be1b8-fe09-4997-9b99-027b2ea7d90d"
   },
   "outputs": [],
   "source": [
    "with tf.device('/GPU:0'):  # Use GPU 0\n",
    "    # Train the model here\n",
    "    history = model.fit(X_train, y_train, epochs=80, batch_size=16, validation_data=(X_test, y_test))"
   ]
  },
  {
   "cell_type": "markdown",
   "metadata": {
    "id": "S6dFf__kh2Er"
   },
   "source": [
    "# 5. Evaluate"
   ]
  },
  {
   "cell_type": "code",
   "execution_count": null,
   "metadata": {
    "colab": {
     "base_uri": "https://localhost:8080/"
    },
    "executionInfo": {
     "elapsed": 2328,
     "status": "ok",
     "timestamp": 1741870833847,
     "user": {
      "displayName": "Jeff Lee",
      "userId": "14830757337905159335"
     },
     "user_tz": -480
    },
    "id": "Ha2vfhW3h3mE",
    "outputId": "6f17c69b-3274-4429-ad5c-f6473518dc9c"
   },
   "outputs": [],
   "source": [
    "# Evaluate the model on testing data\n",
    "loss, accuracy = model.evaluate(X_test, y_test)\n",
    "print(\"Test Loss:\", loss)\n",
    "print(\"Test Accuracy:\", accuracy)\n",
    "\n",
    "# Get model predictions\n",
    "y_pred_probs = model.predict(X_test)  # Probability outputs\n",
    "y_pred = np.argmax(y_pred_probs, axis=1)  # Convert to class labels\n",
    "\n",
    "# Compute classification metrics\n",
    "accuracy = accuracy_score(y_test, y_pred)\n",
    "f1 = f1_score(y_test, y_pred, average=\"macro\")  # Use macro instead of weighted\n",
    "top_2_acc = top_k_accuracy_score(y_test, y_pred_probs, k=2)\n",
    "top_3_acc = top_k_accuracy_score(y_test, y_pred_probs, k=3)\n",
    "\n",
    "# Display results\n",
    "print(f\"Test Accuracy: {accuracy:.4f}\")\n",
    "print(f\"F1 Score (Macro): {f1:.4f}\")\n",
    "print(f\"Top-2 Accuracy: {top_2_acc:.4f}\")\n",
    "print(f\"Top-3 Accuracy: {top_3_acc:.4f}\")\n",
    "\n",
    "# Detailed classification report\n",
    "print(\"\\nClassification Report:\")\n",
    "print(classification_report(y_test, y_pred))"
   ]
  },
  {
   "cell_type": "markdown",
   "metadata": {
    "id": "6vcrWGtTSgN2"
   },
   "source": [
    "# 6. Save the model"
   ]
  },
  {
   "cell_type": "code",
   "execution_count": 6,
   "metadata": {
    "id": "MYJXb-RSSi7p"
   },
   "outputs": [],
   "source": [
    "model.save('finetuned_model.keras')"
   ]
  },
  {
   "cell_type": "markdown",
   "metadata": {
    "id": "wiUKTe_JiFWV"
   },
   "source": [
    "# 7. Plot Training History"
   ]
  },
  {
   "cell_type": "code",
   "execution_count": null,
   "metadata": {
    "colab": {
     "base_uri": "https://localhost:8080/",
     "height": 927
    },
    "executionInfo": {
     "elapsed": 2670,
     "status": "ok",
     "timestamp": 1718689896620,
     "user": {
      "displayName": "Jeff Lee",
      "userId": "14830757337905159335"
     },
     "user_tz": -480
    },
    "id": "8o-3KL1fiEXQ",
    "outputId": "1ebfe571-15a5-4cf1-c89a-276f63752d47"
   },
   "outputs": [],
   "source": [
    "import matplotlib.pyplot as plt\n",
    "\n",
    "# Plot training history\n",
    "plt.plot(history.history['accuracy'], label='accuracy')\n",
    "plt.plot(history.history['val_accuracy'], label = 'val_accuracy')\n",
    "plt.title('Model accuracy')\n",
    "plt.xlabel('Epoch')\n",
    "plt.ylabel('Accuracy')\n",
    "plt.legend(loc='lower right')\n",
    "plt.show()\n",
    "\n",
    "plt.plot(history.history['loss'], label='loss')\n",
    "plt.plot(history.history['val_loss'], label='val_loss')\n",
    "plt.title('Model loss')\n",
    "plt.ylabel('Loss')\n",
    "plt.xlabel('Epoch')\n",
    "plt.legend(['Train', 'Validation'], loc='upper right')\n",
    "plt.show()"
   ]
  }
 ],
 "metadata": {
  "accelerator": "GPU",
  "colab": {
   "authorship_tag": "ABX9TyOwmNWswAByFMbWDGGuMepS",
   "gpuType": "T4",
   "mount_file_id": "1kyW8xwgqTphPhzJjkIJClyEg5rEYSKKC",
   "provenance": []
  },
  "kernelspec": {
   "display_name": "myenv",
   "language": "python",
   "name": "python3"
  },
  "language_info": {
   "codemirror_mode": {
    "name": "ipython",
    "version": 3
   },
   "file_extension": ".py",
   "mimetype": "text/x-python",
   "name": "python",
   "nbconvert_exporter": "python",
   "pygments_lexer": "ipython3",
   "version": "3.11.9"
  }
 },
 "nbformat": 4,
 "nbformat_minor": 0
}
