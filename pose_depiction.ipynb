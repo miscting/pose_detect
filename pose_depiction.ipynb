{
 "cells": [
  {
   "cell_type": "markdown",
   "metadata": {
    "id": "tPE5JcF3XrHM"
   },
   "source": [
    "# Imports"
   ]
  },
  {
   "cell_type": "code",
   "execution_count": 5,
   "metadata": {
    "id": "1-lu3D2fg2YK"
   },
   "outputs": [],
   "source": [
    "import os\n",
    "import numpy as np\n",
    "import random\n",
    "import cv2\n",
    "\n",
    "from tensorflow.keras.preprocessing.image import load_img, img_to_array\n",
    "from tensorflow.keras.models import load_model\n",
    "from sklearn.metrics import confusion_matrix, ConfusionMatrixDisplay\n",
    "from sklearn.cluster import DBSCAN\n",
    "from scipy.spatial.distance import cdist\n",
    "import matplotlib.pyplot as plt\n",
    "\n",
    "from tensorflow.keras.models import Sequential\n",
    "from tensorflow.keras.layers import Conv2D, MaxPooling2D, Dropout, Flatten, Dense\n",
    "from tensorflow.keras.optimizers import Adam\n",
    "from tensorflow.keras.models import load_model"
   ]
  },
  {
   "cell_type": "markdown",
   "metadata": {
    "id": "-7YClxpw6Tj5"
   },
   "source": [
    "# prediction on unseen data"
   ]
  },
  {
   "cell_type": "code",
   "execution_count": 2,
   "metadata": {},
   "outputs": [],
   "source": [
    "model = load_model(\"finetuned_model.keras\")"
   ]
  },
  {
   "cell_type": "code",
   "execution_count": null,
   "metadata": {
    "colab": {
     "base_uri": "https://localhost:8080/",
     "height": 522
    },
    "executionInfo": {
     "elapsed": 12082,
     "status": "ok",
     "timestamp": 1718350518225,
     "user": {
      "displayName": "Jeff Lee",
      "userId": "14830757337905159335"
     },
     "user_tz": -480
    },
    "id": "rtHTvHTr6Wv5",
    "outputId": "a3fe0599-89eb-4965-94eb-f8ef2924656a"
   },
   "outputs": [],
   "source": [
    "# Define a dictionary mapping folder names to numeric labels\n",
    "label_mapping = {\n",
    "    \"curling\": 0,\n",
    "    \"lying\": 1,\n",
    "    \"sitting\": 2\n",
    "}\n",
    "\n",
    "# Function to load and preprocess unseen images\n",
    "def load_and_preprocess_images(data_folder, img_size):\n",
    "    images = []\n",
    "    true_labels = []\n",
    "    image_paths = []  # List to store paths of each image\n",
    "    for label_name in os.listdir(data_folder):\n",
    "        label_folder = os.path.join(data_folder, label_name)\n",
    "        if label_name in label_mapping:  # Ensure the label is in the mapping\n",
    "            for filename in os.listdir(label_folder):\n",
    "                img_path = os.path.join(label_folder, filename)\n",
    "                img = load_img(img_path, target_size=img_size)\n",
    "                img_array = img_to_array(img) / 255.0  # Normalize pixel values\n",
    "                images.append(img_array)\n",
    "                true_labels.append(label_mapping[label_name])  # Use the mapping dictionary\n",
    "                image_paths.append(img_path)  # Store the image path\n",
    "    return np.array(images), true_labels, image_paths  # Return image paths along with images and true labels\n",
    "\n",
    "# Load and preprocess unseen images\n",
    "data_folder = \"03_occupancy_grid/combined_set\"\n",
    "img_size = (100, 100)\n",
    "unseen_images, true_labels, image_paths = load_and_preprocess_images(data_folder, img_size)\n",
    "\n",
    "# Define a dictionary mapping numeric labels to folder names (pose names)\n",
    "pose_folders = {\n",
    "    0: \"curling\",\n",
    "    1: \"lying\",\n",
    "    2: \"sitting\"\n",
    "}\n",
    "\n",
    "# Make predictions on unseen images\n",
    "predictions = model.predict(unseen_images)\n",
    "predicted_labels = np.argmax(predictions, axis=1)\n",
    "\n",
    "# Calculate the confusion matrix\n",
    "cm = confusion_matrix(true_labels, predicted_labels)\n",
    "\n",
    "# Display the confusion matrix\n",
    "cm_display = ConfusionMatrixDisplay(confusion_matrix=cm, display_labels=list(pose_folders.values()))\n",
    "cm_display.plot(cmap='Blues', xticks_rotation='vertical')\n",
    "cm_display.ax_.set_title('Confusion Matrix')\n",
    "\n",
    "plt.show()"
   ]
  },
  {
   "cell_type": "markdown",
   "metadata": {
    "id": "P3D19Kbx8XfK"
   },
   "source": [
    "# Prediction for random pose"
   ]
  },
  {
   "cell_type": "code",
   "execution_count": null,
   "metadata": {
    "colab": {
     "base_uri": "https://localhost:8080/",
     "height": 981
    },
    "executionInfo": {
     "elapsed": 3187,
     "status": "ok",
     "timestamp": 1718351347066,
     "user": {
      "displayName": "Jeff Lee",
      "userId": "14830757337905159335"
     },
     "user_tz": -480
    },
    "id": "g_PLO1iQ8XQ8",
    "outputId": "40782375-a0a7-4721-b20d-4460c30f31be"
   },
   "outputs": [
    {
     "name": "stdout",
     "output_type": "stream",
     "text": [
      "\u001b[1m1/1\u001b[0m \u001b[32m━━━━━━━━━━━━━━━━━━━━\u001b[0m\u001b[37m\u001b[0m \u001b[1m0s\u001b[0m 21ms/step\n"
     ]
    },
    {
     "data": {
      "image/png": "[encoded data removed]",
      "text/plain": [
       "<Figure size 1500x1000 with 2 Axes>"
      ]
     },
     "metadata": {},
     "output_type": "display_data"
    }
   ],
   "source": [
    "import random\n",
    "import numpy as np\n",
    "import matplotlib.pyplot as plt\n",
    "import cv2\n",
    "from sklearn.cluster import DBSCAN\n",
    "\n",
    "# Randomly select an image and get info\n",
    "random_index = random.randint(0, len(unseen_images) - 1)\n",
    "random_image = unseen_images[random_index]\n",
    "random_true_label = true_labels[random_index]\n",
    "random_image_path = image_paths[random_index]\n",
    "\n",
    "# Predict the label\n",
    "random_prediction = model.predict(np.expand_dims(random_image, axis=0))\n",
    "predicted_label = np.argmax(random_prediction)\n",
    "\n",
    "# Prepare figure\n",
    "plt.figure(figsize=(15, 10))\n",
    "plt.suptitle(f\"True Label: {pose_folders[random_true_label]}, Predicted Label: {pose_folders[predicted_label]}\")\n",
    "\n",
    "# Convert to grayscale\n",
    "random_image_normalized = (random_image * 255.0).astype(np.uint8)\n",
    "gray_image = cv2.cvtColor(random_image_normalized, cv2.COLOR_RGB2GRAY)\n",
    "\n",
    "# Subplot 1: Grayscale Image\n",
    "plt.subplot(2, 2, 1)\n",
    "plt.imshow(gray_image, cmap='gray')\n",
    "plt.title('Grayscale Image')\n",
    "plt.axis('off')\n",
    "\n",
    "# Threshold and mask\n",
    "_, mask = cv2.threshold(gray_image, 1, 255, cv2.THRESH_BINARY)\n",
    "mask = cv2.copyMakeBorder(mask, 1, 1, 1, 1, cv2.BORDER_CONSTANT, value=0)\n",
    "\n",
    "# Extract non-zero points\n",
    "non_zero_points = np.argwhere(gray_image != 0)\n",
    "\n",
    "# Cluster points using DBSCAN\n",
    "clustering = DBSCAN(eps=1, min_samples=2).fit(non_zero_points)\n",
    "labels = clustering.labels_\n",
    "\n",
    "# Compute centroids\n",
    "def compute_centroids(points, labels):\n",
    "    centroids = []\n",
    "    for label in np.unique(labels):\n",
    "        if label == -1:  # skip noise\n",
    "            continue\n",
    "        cluster_points = points[labels == label]\n",
    "        centroid = np.mean(cluster_points, axis=0)\n",
    "        centroids.append(centroid)\n",
    "    return np.array(centroids)\n",
    "\n",
    "centroids = compute_centroids(non_zero_points, labels)\n",
    "\n",
    "# Create blur canvases\n",
    "canvas_centroids = np.zeros_like(gray_image, dtype=np.uint8)\n",
    "canvas_others = np.zeros_like(gray_image, dtype=np.uint8)\n",
    "\n",
    "for c in centroids:\n",
    "    x, y = int(c[1]), int(c[0])\n",
    "    cv2.circle(canvas_centroids, (x, y), 1, 255, -1)\n",
    "\n",
    "for p in non_zero_points:\n",
    "    x, y = int(p[1]), int(p[0])\n",
    "    cv2.circle(canvas_others, (x, y), 1, 100, -1)\n",
    "\n",
    "# Apply Gaussian blur\n",
    "blur_centroids = cv2.GaussianBlur(canvas_centroids, (41, 41), 0)\n",
    "blur_others = cv2.GaussianBlur(canvas_others, (15, 15), 0)\n",
    "combined_blur = cv2.addWeighted(blur_centroids, 1.0, blur_others, 0.5, 0)\n",
    "\n",
    "# Subplot 2: Blurred output\n",
    "plt.subplot(2, 2, 2)\n",
    "plt.imshow(combined_blur, cmap='gray')\n",
    "plt.scatter(centroids[:, 1], centroids[:, 0], color='blue', s=20, label='Centroids')\n",
    "plt.title('Gaussian Blurring')\n",
    "plt.axis('off')\n",
    "plt.legend(loc='lower left')\n",
    "\n",
    "# Final layout\n",
    "plt.tight_layout()\n",
    "plt.show()"
   ]
  }
 ],
 "metadata": {
  "accelerator": "GPU",
  "colab": {
   "authorship_tag": "ABX9TyNq5HMb1AT1EhOpeaD22wPf",
   "gpuType": "T4",
   "mount_file_id": "1kyW8xwgqTphPhzJjkIJClyEg5rEYSKKC",
   "provenance": []
  },
  "kernelspec": {
   "display_name": "myenv",
   "language": "python",
   "name": "python3"
  },
  "language_info": {
   "codemirror_mode": {
    "name": "ipython",
    "version": 3
   },
   "file_extension": ".py",
   "mimetype": "text/x-python",
   "name": "python",
   "nbconvert_exporter": "python",
   "pygments_lexer": "ipython3",
   "version": "3.11.9"
  }
 },
 "nbformat": 4,
 "nbformat_minor": 0
}
